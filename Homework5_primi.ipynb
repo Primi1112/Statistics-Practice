{
  "nbformat": 4,
  "nbformat_minor": 0,
  "metadata": {
    "colab": {
      "provenance": []
    },
    "kernelspec": {
      "name": "python3",
      "display_name": "Python 3"
    },
    "language_info": {
      "name": "python"
    }
  },
  "cells": [
    {
      "cell_type": "markdown",
      "source": [
        "##1.Create a class and name it Z-test: \n",
        "\n",
        "  \n",
        "          "
      ],
      "metadata": {
        "id": "rILVobOkoDwA"
      }
    },
    {
      "cell_type": "code",
      "execution_count": null,
      "metadata": {
        "colab": {
          "base_uri": "https://localhost:8080/"
        },
        "id": "brDaSY5TAArK",
        "outputId": "676db415-ff81-4dc5-a96b-b1b01f1d7f63"
      },
      "outputs": [
        {
          "output_type": "stream",
          "name": "stdout",
          "text": [
            "Z-score: 2.931821662132097\n",
            "P-value: 0.0033698019483014985\n",
            "Reject null hypothesis\n"
          ]
        }
      ],
      "source": [
        "import math\n",
        "from scipy.stats import norm\n",
        "\n",
        "class ZTest:\n",
        "    def __init__(self, sample_data, pop_mean, pop_std):\n",
        "        self.sample_data = sample\n",
        "        self.pop_mean = pop_mean\n",
        "        self.pop_std = pop_std\n",
        "\n",
        "    def z_score(self):\n",
        "        n = len(self.sample_data)\n",
        "        sample_mean = sum(self.sample_data) / n\n",
        "        z = (sample_mean - self.pop_mean) / (self.pop_std / math.sqrt(n))\n",
        "        return z\n",
        "\n",
        "    def p_value(self):\n",
        "        z = self.z_score()\n",
        "        p_value = 2 * (1 - norm.cdf(abs(z)))\n",
        "        return p_value\n",
        "\n",
        "# Example data\n",
        "sample = [4.186, 4.439, 4.781, 4.388, 4.947, 4.853, 4.889, 4.682, 4.428,\n",
        "          4.533, 4.557, 4.761, 4.491, 4.334, 4.83 , 4.268, 4.68 , 4.437,\n",
        "          5.382, 5.111, 5.096, 5.232, 5.033, 5.57 , 4.474, 4.789, 4.725,\n",
        "          4.84 , 4.817, 4.438, 4.754, 4.966, 4.285, 4.482, 4.396, 4.418,\n",
        "          4.514, 5.383, 5.264, 4.309, 5.058, 4.392, 4.788, 4.934, 4.967,\n",
        "          4.554, 4.42 , 5.,     5.126,   5.082 ,   4.944 ,   4.658]\n",
        "#\tState the null and alternative hypotheses.\n",
        "# H0 : The new model has the similar bandwith of the previous model\n",
        "# H1: The new model has significant bandwidth difference with the previous model\n",
        "\n",
        "# Hypothesized population mean and standard deviation\n",
        "pop_mean = 4.5\n",
        "pop_std = 0.6\n",
        "\n",
        "# Create an object of the ZTest class\n",
        "z_test = ZTest(sample,pop_mean,pop_std)\n",
        "\n",
        "# Calculate the Z-score and p-value\n",
        "z_score = z_test.z_score()\n",
        "p_value = z_test.p_value()\n",
        "\n",
        "print(\"Z-score:\", z_score)\n",
        "print(\"P-value:\", p_value)\n",
        "\n",
        "if p_value < 0.05:\n",
        "    print(\"Reject null hypothesis\")\n",
        "else:\n",
        "    print(\"Fail to reject null hypothesis\")\n",
        "  \n",
        "  \n",
        "\n"
      ]
    },
    {
      "cell_type": "markdown",
      "source": [
        "Hence from the results, we can say that p value is less than the alpha valus so reject the null hypothesis which means there is significant difference in the bandwidth with the previous model."
      ],
      "metadata": {
        "id": "OxCdAq85dS7u"
      }
    },
    {
      "cell_type": "markdown",
      "source": [
        "##2.\tCreate a class and name it T-test this class includes:\n",
        "   2.\tCreate a class and name it T-test this class includes:\n",
        "●\tOne-sample: df = n - 1\n",
        " \n",
        "●\tTwo-sample: df = n1 + n2 - 2\n",
        " \n",
        "\n",
        "●\tPaired t-test: df = n - 1\n",
        " \n",
        "d bar: is the difference between the two samples\n",
        "Sd is the standard deviation of the difference between samples\n"
      ],
      "metadata": {
        "id": "jtV47llspmmt"
      }
    },
    {
      "cell_type": "code",
      "source": [
        "import numpy as np\n",
        "class T_test:\n",
        "    def __init__(self):\n",
        "        pass\n",
        "\n",
        "    def one_sample(self, n, sample, pop_mean, alpha):\n",
        "        from scipy.stats import t\n",
        "        import numpy as np\n",
        "\n",
        "        df = n - 1\n",
        "        sample_mean = np.mean(sample)\n",
        "        sample_std = np.std(sample, ddof=1)\n",
        "        t_statistic = (sample_mean - pop_mean) / (sample_std / np.sqrt(n))\n",
        "        p_value = t.sf(np.abs(t_statistic), df) * 2\n",
        "        print(\"t-statistic: \", t_statistic)\n",
        "        print(\"p-value: \", p_value)\n",
        "        \n",
        "\n",
        "        if p_value < alpha:\n",
        "            return f\"The null hypothesis is rejected. \"\n",
        "        else:\n",
        "            return f\"The null hypothesis is not rejected.\"\n",
        "       \n",
        "\n",
        "    def two_sample(self, n1, n2, sample1, sample2, alpha):\n",
        "        from scipy.stats import t\n",
        "        import numpy as np\n",
        "\n",
        "        df = n1 + n2 - 2\n",
        "        sample1_mean = np.mean(sample1)\n",
        "        sample2_mean = np.mean(sample2)\n",
        "        sample1_std = np.std(sample1, ddof=1)\n",
        "        sample2_std = np.std(sample2, ddof=1)\n",
        "        std = np.sqrt(((n1 - 1) * sample1_std ** 2 + (n2 - 1) * sample2_std ** 2) / df)\n",
        "        t_statistic = (sample1_mean - sample2_mean) / (std * np.sqrt(1 / n1 + 1 / n2))\n",
        "        p_value = t.sf(np.abs(t_statistic), df) * 2\n",
        "        print(\"t-statistic: \", t_statistic)\n",
        "        print(\"p-value: \", p_value)\n",
        "\n",
        "        if p_value < alpha:\n",
        "            return \"The null hypothesis is rejected.\"\n",
        "        else:\n",
        "            return \"The null hypothesis is not rejected. \"\n",
        "\n",
        "    def paired_t_test(self, n, before_scores, after_scores, alpha):\n",
        "        from scipy.stats import t\n",
        "        import numpy as np\n",
        "\n",
        "        df = n - 1\n",
        "        diff_scores = after_scores - before_scores\n",
        "        diff_mean = np.mean(diff_scores)\n",
        "        diff_std = np.std(diff_scores, ddof=1)\n",
        "        t_statistic = diff_mean / (diff_std / np.sqrt(n))\n",
        "        p_value = t.sf(np.abs(t_statistic), df) * 2\n",
        "        print(\"t-statistic: \", t_statistic)\n",
        "        print(\"p-value: \", p_value)\n",
        "\n",
        "        if p_value < alpha:\n",
        "            return \"The null hypothesis is rejected.\"\n",
        "        else:\n",
        "            return \"The null hypothesis is not rejected.\"\n",
        "# Create object of the class T_test\n",
        "t_test = T_test()\n",
        "#one sample t test\n",
        "Sample = [14.8, 15.2, 15.1, 15.3, 15.0, 14.9, 15.2, 14.8, 15.1, 15.0, 14.9, 14.8, 15.2, 14.9, 15.0, 14.9, 15.1, 15.3, 15.0, 15.1, 14.8, 15.0, 15.2, 15.1, 15.3, 15.1, 15.0, 14.8, 15.2, 15.0]\n",
        "n = len(Sample)\n",
        "pop_mean = 15\n",
        "alpha = 0.05\n",
        "# State the null and alternative hypotheses.\n",
        "#H0: There is no significant difference between the mean weight and the target weight\n",
        "#Ha: There is significant difference between the mean weight and the target weight\n",
        "one_sample_test = t_test.one_sample(n,Sample,pop_mean,alpha)\n",
        "print(one_sample_test)\n",
        "# Two-sample t-test example\n",
        "New_flavor = [8, 7, 9, 6, 7, 8, 9, 7, 8, 7, 6, 8, 7, 9, 8, 7, 6, 9, 8, 7]\n",
        "Best_selling_flavor = [6, 7, 8, 6, 7, 6, 7, 6, 8, 7, 6, 7, 6, 8, 7, 6, 7, 8, 6, 7]\n",
        "n1 = len(New_flavor)\n",
        "n2 = len(Best_selling_flavor)\n",
        "alpha = 0.05\n",
        "# State the null and alternative hypotheses.\n",
        "#H0:There has no significant difference between the groups\n",
        "#Ha:There exsists difference between the groups\n",
        "two_sample_test = t_test.two_sample(n1,n2,New_flavor,Best_selling_flavor,alpha)\n",
        "print(two_sample_test)\n",
        "# Paired T test\n",
        "before_scores = np.array([15, 18, 12, 10, 17, 16, 12, 14, 19, 18, 11, 13, 16, 17, 19, 14, 16, 13, 15, 12])\n",
        "after_scores =np.array ([18, 20, 15, 13, 19, 18, 14, 16, 21, 20, 14, 16, 19, 20, 22, 16, 18, 15, 17, 14])\n",
        "\n",
        "t_test = T_test()\n",
        "\n",
        "# State the null and alternative hypotheses\n",
        "# H0: The  score before the training program is the same as the score after the training program.\n",
        "# Ha: The  score after the training program is higher than the score before the training program.\n",
        "\n",
        "alpha = 0.05\n",
        "n = len(before_scores)\n",
        "result = t_test.paired_t_test(n, before_scores, after_scores, alpha)\n",
        "print(result)\n",
        "\n",
        "\n",
        "\n"
      ],
      "metadata": {
        "colab": {
          "base_uri": "https://localhost:8080/"
        },
        "id": "rmXOZ8igj6lw",
        "outputId": "7857deb6-7bac-438b-db06-de6774537d90"
      },
      "execution_count": null,
      "outputs": [
        {
          "output_type": "stream",
          "name": "stdout",
          "text": [
            "t-statistic:  1.2661023163144929\n",
            "p-value:  0.21555298152540106\n",
            "The null hypothesis is not rejected.\n",
            "t-statistic:  2.6626213096882494\n",
            "p-value:  0.011305183377361644\n",
            "The null hypothesis is rejected.\n",
            "t-statistic:  21.354156504062622\n",
            "p-value:  9.64779113579249e-15\n",
            "The null hypothesis is rejected.\n"
          ]
        }
      ]
    },
    {
      "cell_type": "markdown",
      "source": [
        "## 3.\tANOVA Test"
      ],
      "metadata": {
        "id": "oKHBlNoxJOMv"
      }
    },
    {
      "cell_type": "code",
      "source": [
        "import numpy as np\n",
        "from scipy.stats import f\n",
        "import statsmodels.api as sm\n",
        "from statsmodels.formula.api import ols\n",
        "\n",
        "class ANOVA:\n",
        "    \n",
        "    def __init__(self, alpha=0.05):\n",
        "        self.alpha = alpha\n",
        "    \n",
        "    def one_way(self, *args):\n",
        "        # Calculate the total number of observations and groups\n",
        "        n = sum([len(a) for a in args])\n",
        "        k = len(args)\n",
        "        \n",
        "        # Calculate the overall mean\n",
        "        mean = np.mean([x for a in args for x in a])\n",
        "        \n",
        "        # Calculate the sum of squares between groups (SSB) and within groups (SSW)\n",
        "        SSB = sum([len(a) * (np.mean(a) - mean)**2 for a in args])\n",
        "        SSW = sum([(x - np.mean(a))**2 for a in args for x in a])\n",
        "        \n",
        "        # Calculate the degrees of freedom between groups (dfB) and within groups (dfW)\n",
        "        dfB = k - 1\n",
        "        dfW = n - k\n",
        "        \n",
        "        # Calculate the mean squares between groups (MSB) and within groups (MSW)\n",
        "        MSB = SSB / dfB\n",
        "        MSW = SSW / dfW\n",
        "        \n",
        "        # Calculate the F-statistic and p-value\n",
        "        F_statistic = MSB / MSW\n",
        "        p_value = 1 - f.cdf(F_statistic, dfB, dfW)\n",
        "    \n",
        "        print(\"F-statistic:\", F_statistic)\n",
        "        print(\"p-value:\", p_value)\n",
        "        \n",
        "        # reject or fail to reject the null hypothesis\n",
        "        if p_value < self.alpha:\n",
        "            return \"Reject the null hypothesis:.\" #  There is significant difference between the means of the groups\n",
        "        else:\n",
        "            return \"Fail to reject the null hypothesis:\" # There is insufficient evidence to conclude that the means of the groups are different.\n",
        " \n",
        "# data   \n",
        "Department_A = [55, 60, 50, 58, 63, 62, 57, 56, 61, 59]\n",
        "Department_B = [50, 52, 48, 49, 55, 53, 51, 54, 47, 50]\n",
        "Department_C = [45, 43, 48, 50, 42, 47, 49, 46, 44, 48]\n",
        "anova_test = ANOVA()\n",
        "value = anova_test.one_way(Department_A, Department_B, Department_C)\n",
        "print(value)\n",
        "        \n",
        "    \n",
        "     \n",
        "       "
      ],
      "metadata": {
        "id": "cjgDkD4wJGJD",
        "colab": {
          "base_uri": "https://localhost:8080/"
        },
        "outputId": "a7225d21-ed45-4df1-dd49-8659f643805d"
      },
      "execution_count": null,
      "outputs": [
        {
          "output_type": "stream",
          "name": "stdout",
          "text": [
            "F-statistic: 37.681818181818194\n",
            "p-value: 1.536185967321302e-08\n",
            "Reject the null hypothesis: There is significant difference between the means of the groups.\n"
          ]
        }
      ]
    },
    {
      "cell_type": "markdown",
      "source": [
        "## 4. Chi Square"
      ],
      "metadata": {
        "id": "uEuaCmLNV_ym"
      }
    },
    {
      "cell_type": "code",
      "source": [
        "import numpy as np\n",
        "from scipy.stats import chi2\n",
        "\n",
        "class ChiSquare:\n",
        "    def __init__(self, alpha=0.05):\n",
        "        self.alpha = alpha\n",
        "    \n",
        "    def chi_square_test(self, observed, expected):\n",
        "        n_rows, n_cols = observed.shape\n",
        "        dof = (n_rows - 1) * (n_cols - 1)\n",
        "\n",
        "        chi2_statistic = np.sum((observed - expected)**2 / expected)\n",
        "\n",
        "        p_value = 1 - chi2.cdf(chi2_statistic, dof)\n",
        "\n",
        "        print('Chi-Square Statistic:', chi2_statistic)\n",
        "        print('p-value:', p_value)\n",
        "\n",
        "        if p_value < self.alpha:\n",
        "            print('Reject the null hypothesis')\n",
        "        else:\n",
        "            print('Fail to reject the null hypothesis')\n"
      ],
      "metadata": {
        "id": "6y97k1fVV-XW"
      },
      "execution_count": null,
      "outputs": []
    },
    {
      "cell_type": "code",
      "source": [
        "observed_freq = np.array([18, 20, 16, 22, 14, 10])\n",
        "expected_prob = np.array([1/6, 1/6, 1/6, 1/6, 1/6, 1/6])\n",
        "\n",
        "\n",
        "observed_freq = observed_freq.reshape(1, -1) # reshape into 2D array\n",
        "\n",
        "# create an object of the ChiSquare class\n",
        "chi_sq = ChiSquare(alpha=0.05)\n",
        "\n",
        "# perform the chi-square test\n",
        "chi_sq.chi_square_test(observed_freq, expected_prob)\n"
      ],
      "metadata": {
        "colab": {
          "base_uri": "https://localhost:8080/"
        },
        "id": "C1YeouxLmIWm",
        "outputId": "f99adcad-6a92-48a5-e192-fe1bb28d3653"
      },
      "execution_count": null,
      "outputs": [
        {
          "output_type": "stream",
          "name": "stdout",
          "text": [
            "Chi-Square Statistic: 10360.999999999998\n",
            "p-value: nan\n",
            "Fail to reject the null hypothesis\n"
          ]
        }
      ]
    },
    {
      "cell_type": "markdown",
      "source": [
        "Thus we can say that the two categorical variables are independent"
      ],
      "metadata": {
        "id": "pnaLJDqSnDZf"
      }
    },
    {
      "cell_type": "markdown",
      "source": [
        "**A/B Testing**"
      ],
      "metadata": {
        "id": "j3N5ba32QFHA"
      }
    },
    {
      "cell_type": "code",
      "source": [
        "class AB_testing(T_test):\n",
        "    def __init__(self):\n",
        "        super().__init__()\n",
        "        \n",
        "    def compare_flavour(self, group1, group2, alpha=0.05):\n",
        "        n1 = len(group1)\n",
        "        n2 = len(group2)\n",
        "        sample1 = np.array(group1)\n",
        "        sample2 = np.array(group2)\n",
        "        result = self.two_sample(n1, n2, sample1, sample2, alpha)\n",
        "        return result\n"
      ],
      "metadata": {
        "id": "NPhPkyV2hPz8"
      },
      "execution_count": null,
      "outputs": []
    },
    {
      "cell_type": "code",
      "source": [
        "# Null Hypothesis: The new flavor of soda does not have a higher preference than the old flavor.\n",
        "# Alternative Hypothesis: The new flavor of soda has a higher preference than the old flavor.\n",
        "\n",
        "old_flavor = [6, 7, 8, 5, 6, 7, 5, 8, 6, 7, 5, 6, 7, 6, 5]\n",
        "new_flavor = [8, 9, 7, 8, 9, 6, 7, 8, 7, 8, 7, 8, 9, 6, 8]\n",
        "\n",
        "ab_test = AB_testing()\n",
        "result = ab_test.compare_flavour(old_flavor, new_flavor, alpha=0.05)\n",
        "print(result)\n"
      ],
      "metadata": {
        "colab": {
          "base_uri": "https://localhost:8080/"
        },
        "id": "6n4veWyAhbLs",
        "outputId": "202eddf3-0a2c-4b9a-ec9a-2afefba0ba23"
      },
      "execution_count": null,
      "outputs": [
        {
          "output_type": "stream",
          "name": "stdout",
          "text": [
            "t-statistic:  -3.815929867636064\n",
            "p-value:  0.0006868217697366416\n",
            "The null hypothesis is rejected.\n"
          ]
        }
      ]
    },
    {
      "cell_type": "markdown",
      "source": [
        "The results say that null hyothesis is rejected which means that there is a significant diference in preference between the old and new flavours of the soda .So we can come o the point that the new flavour is prefered ."
      ],
      "metadata": {
        "id": "-6fvNB3fiUGN"
      }
    }
  ]
}