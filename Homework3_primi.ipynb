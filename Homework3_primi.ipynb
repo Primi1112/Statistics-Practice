{
  "nbformat": 4,
  "nbformat_minor": 0,
  "metadata": {
    "colab": {
      "provenance": []
    },
    "kernelspec": {
      "name": "python3",
      "display_name": "Python 3"
    },
    "language_info": {
      "name": "python"
    }
  },
  "cells": [
    {
      "cell_type": "markdown",
      "source": [
        "**1.Dataset that shows the number of bedrooms and the selling price for 20 houses in a particular neighborhood**"
      ],
      "metadata": {
        "id": "xscApcreU5_V"
      }
    },
    {
      "cell_type": "code",
      "execution_count": null,
      "metadata": {
        "id": "HJogMipmUzAE"
      },
      "outputs": [],
      "source": [
        "import numpy as np\n",
        "import random\n",
        "import math\n",
        "import scipy.stats as st\n",
        "from scipy.stats import t\n",
        "from sklearn.linear_model import LinearRegression"
      ]
    },
    {
      "cell_type": "code",
      "source": [
        "Bedrooms = [1,1,1,2,2,2,2,3,3,3,3,3,3,3,4,4,4,5,5,6]\n",
        "Prices = [120,133,139,185,148,160,192,205,244,213,236,280,275,273,312,311,304,415,396,488]"
      ],
      "metadata": {
        "id": "vg2qlkdIVMWo"
      },
      "execution_count": null,
      "outputs": []
    },
    {
      "cell_type": "code",
      "source": [
        "x = np.array(Bedrooms)\n",
        "y = np.array(Prices)"
      ],
      "metadata": {
        "id": "bJ-RPiJlVQsh"
      },
      "execution_count": null,
      "outputs": []
    },
    {
      "cell_type": "markdown",
      "source": [
        "**2.\tUsing the Bedrooms data points:**"
      ],
      "metadata": {
        "id": "nm_irUKNV9To"
      }
    },
    {
      "cell_type": "code",
      "source": [
        "#\tExtract a random sample of size 10\n",
        "sample_10 = np.random.choice(x,10)\n",
        "sample_10"
      ],
      "metadata": {
        "colab": {
          "base_uri": "https://localhost:8080/"
        },
        "id": "ushEVvjPV_mC",
        "outputId": "f5ebdcf2-ed77-496d-ddcd-22feac1ffe4f"
      },
      "execution_count": null,
      "outputs": [
        {
          "output_type": "execute_result",
          "data": {
            "text/plain": [
              "array([2, 3, 1, 3, 5, 3, 4, 3, 3, 4])"
            ]
          },
          "metadata": {},
          "execution_count": 5
        }
      ]
    },
    {
      "cell_type": "code",
      "source": [
        "#Compute the mean and standard deviation of the sample\n",
        "sample_mean = sample_10.mean()\n",
        "print(\"Mean :\",sample_mean)\n",
        "sample_sd = sample_10.std()\n",
        "print(\"Standard Deviation:\",sample_sd)"
      ],
      "metadata": {
        "colab": {
          "base_uri": "https://localhost:8080/"
        },
        "id": "HjbEMwUUWP0K",
        "outputId": "d1412f60-d9b1-489f-dec1-cc0884b6bf97"
      },
      "execution_count": null,
      "outputs": [
        {
          "output_type": "stream",
          "name": "stdout",
          "text": [
            "Mean : 3.1\n",
            "Standard Deviation: 1.044030650891055\n"
          ]
        }
      ]
    },
    {
      "cell_type": "code",
      "source": [
        "#Compute the the mean of the population\n",
        "pop_mean = x.mean()\n",
        "print(\"Population Mean:\",pop_mean)"
      ],
      "metadata": {
        "colab": {
          "base_uri": "https://localhost:8080/"
        },
        "id": "-SWZ4zBVWbfi",
        "outputId": "a092eb28-6b1a-4594-9e85-7cfb42147d10"
      },
      "execution_count": null,
      "outputs": [
        {
          "output_type": "stream",
          "name": "stdout",
          "text": [
            "Population Mean: 3.0\n"
          ]
        }
      ]
    },
    {
      "cell_type": "code",
      "source": [
        "#Computer the confidence interval of 95% using the sample \n",
        "\n",
        "LCL = sample_mean - 1.96 * (sample_sd / np.sqrt(len(sample_10)))\n",
        "UCL = sample_mean + 1.96 * (sample_sd / np.sqrt(len(sample_10)))\n",
        "\n",
        "# Print the confidence interval\n",
        "print('The mean of the population with 95% confidence interval lies between [{:.2f}, {:.2f}]'.format(LCL, UCL))\n",
        "\n"
      ],
      "metadata": {
        "colab": {
          "base_uri": "https://localhost:8080/"
        },
        "id": "3kQe1VV6Wu03",
        "outputId": "b0fceea0-c0b3-46d5-f66f-ec0053e29525"
      },
      "execution_count": null,
      "outputs": [
        {
          "output_type": "stream",
          "name": "stdout",
          "text": [
            "The mean of the population with 95% confidence interval lies between [2.45, 3.75]\n"
          ]
        }
      ]
    },
    {
      "cell_type": "code",
      "source": [
        "# Check if the population mean lies between the upper and lower bounds of the interval\n",
        "cf_mean_interval = (pop_mean >= LCL) and (pop_mean <= UCL)\n",
        "\n",
        "# Print the result\n",
        "if cf_mean_interval:\n",
        "    print(\"The population mean is within the confidence interval.\")\n",
        "else:\n",
        "    print(\"The population mean is outside the confidence interval.\")\n"
      ],
      "metadata": {
        "colab": {
          "base_uri": "https://localhost:8080/"
        },
        "id": "zRImmrvimFRd",
        "outputId": "1296a3cb-b754-468e-a503-c83152602130"
      },
      "execution_count": null,
      "outputs": [
        {
          "output_type": "stream",
          "name": "stdout",
          "text": [
            "The population mean is within the confidence interval.\n"
          ]
        }
      ]
    },
    {
      "cell_type": "markdown",
      "source": [
        "#3.\tUsing both of the Bedrooms and the Prices:"
      ],
      "metadata": {
        "id": "8Q_XcgbXmgTp"
      }
    },
    {
      "cell_type": "code",
      "source": [
        "#Compute the covariance and the correlation between the two variables\n",
        "cov_mat = np.cov(x,y)\n",
        "cov_mat\n",
        "\n"
      ],
      "metadata": {
        "colab": {
          "base_uri": "https://localhost:8080/"
        },
        "id": "-eg8t93vmf1r",
        "outputId": "69428ac9-6c5d-45af-9c99-6f3f736359bc"
      },
      "execution_count": null,
      "outputs": [
        {
          "output_type": "execute_result",
          "data": {
            "text/plain": [
              "array([[1.89473684e+00, 1.33894737e+02],\n",
              "       [1.33894737e+02, 1.00161553e+04]])"
            ]
          },
          "metadata": {},
          "execution_count": 10
        }
      ]
    },
    {
      "cell_type": "markdown",
      "source": [
        "From the results we could say there exsists a postive relationship between the number of bedrooms and prices. So if the number of bedroom increases ,the prices also increases."
      ],
      "metadata": {
        "id": "2oHGBqGCpNGK"
      }
    },
    {
      "cell_type": "code",
      "source": [
        "corr_mat = np.corrcoef(x,y)\n",
        "corr_mat\n"
      ],
      "metadata": {
        "colab": {
          "base_uri": "https://localhost:8080/"
        },
        "id": "bd-BVWsmo1rC",
        "outputId": "76c0955b-d97c-4e45-abe2-478ab83e42c3"
      },
      "execution_count": null,
      "outputs": [
        {
          "output_type": "execute_result",
          "data": {
            "text/plain": [
              "array([[1.        , 0.97193793],\n",
              "       [0.97193793, 1.        ]])"
            ]
          },
          "metadata": {},
          "execution_count": 11
        }
      ]
    },
    {
      "cell_type": "markdown",
      "source": [
        "Therefore, we can say that there is a strong positive correlation between number of bedrooms and the prices."
      ],
      "metadata": {
        "id": "RQ_vByLopssH"
      }
    },
    {
      "cell_type": "markdown",
      "source": [
        "**Build a regression model and estimate the regression parameters (slope and intercept).**"
      ],
      "metadata": {
        "id": "WcbrlsEBqCqH"
      }
    },
    {
      "cell_type": "code",
      "source": [
        "x=x.reshape((-1,1)) \n",
        "model = LinearRegression()\n",
        "model.fit(x, y)"
      ],
      "metadata": {
        "colab": {
          "base_uri": "https://localhost:8080/",
          "height": 74
        },
        "id": "T3l1mh-Dp-VZ",
        "outputId": "7e18671a-e45e-4a86-b8db-eb08085c53fb"
      },
      "execution_count": null,
      "outputs": [
        {
          "output_type": "execute_result",
          "data": {
            "text/plain": [
              "LinearRegression()"
            ],
            "text/html": [
              "<style>#sk-container-id-1 {color: black;background-color: white;}#sk-container-id-1 pre{padding: 0;}#sk-container-id-1 div.sk-toggleable {background-color: white;}#sk-container-id-1 label.sk-toggleable__label {cursor: pointer;display: block;width: 100%;margin-bottom: 0;padding: 0.3em;box-sizing: border-box;text-align: center;}#sk-container-id-1 label.sk-toggleable__label-arrow:before {content: \"▸\";float: left;margin-right: 0.25em;color: #696969;}#sk-container-id-1 label.sk-toggleable__label-arrow:hover:before {color: black;}#sk-container-id-1 div.sk-estimator:hover label.sk-toggleable__label-arrow:before {color: black;}#sk-container-id-1 div.sk-toggleable__content {max-height: 0;max-width: 0;overflow: hidden;text-align: left;background-color: #f0f8ff;}#sk-container-id-1 div.sk-toggleable__content pre {margin: 0.2em;color: black;border-radius: 0.25em;background-color: #f0f8ff;}#sk-container-id-1 input.sk-toggleable__control:checked~div.sk-toggleable__content {max-height: 200px;max-width: 100%;overflow: auto;}#sk-container-id-1 input.sk-toggleable__control:checked~label.sk-toggleable__label-arrow:before {content: \"▾\";}#sk-container-id-1 div.sk-estimator input.sk-toggleable__control:checked~label.sk-toggleable__label {background-color: #d4ebff;}#sk-container-id-1 div.sk-label input.sk-toggleable__control:checked~label.sk-toggleable__label {background-color: #d4ebff;}#sk-container-id-1 input.sk-hidden--visually {border: 0;clip: rect(1px 1px 1px 1px);clip: rect(1px, 1px, 1px, 1px);height: 1px;margin: -1px;overflow: hidden;padding: 0;position: absolute;width: 1px;}#sk-container-id-1 div.sk-estimator {font-family: monospace;background-color: #f0f8ff;border: 1px dotted black;border-radius: 0.25em;box-sizing: border-box;margin-bottom: 0.5em;}#sk-container-id-1 div.sk-estimator:hover {background-color: #d4ebff;}#sk-container-id-1 div.sk-parallel-item::after {content: \"\";width: 100%;border-bottom: 1px solid gray;flex-grow: 1;}#sk-container-id-1 div.sk-label:hover label.sk-toggleable__label {background-color: #d4ebff;}#sk-container-id-1 div.sk-serial::before {content: \"\";position: absolute;border-left: 1px solid gray;box-sizing: border-box;top: 0;bottom: 0;left: 50%;z-index: 0;}#sk-container-id-1 div.sk-serial {display: flex;flex-direction: column;align-items: center;background-color: white;padding-right: 0.2em;padding-left: 0.2em;position: relative;}#sk-container-id-1 div.sk-item {position: relative;z-index: 1;}#sk-container-id-1 div.sk-parallel {display: flex;align-items: stretch;justify-content: center;background-color: white;position: relative;}#sk-container-id-1 div.sk-item::before, #sk-container-id-1 div.sk-parallel-item::before {content: \"\";position: absolute;border-left: 1px solid gray;box-sizing: border-box;top: 0;bottom: 0;left: 50%;z-index: -1;}#sk-container-id-1 div.sk-parallel-item {display: flex;flex-direction: column;z-index: 1;position: relative;background-color: white;}#sk-container-id-1 div.sk-parallel-item:first-child::after {align-self: flex-end;width: 50%;}#sk-container-id-1 div.sk-parallel-item:last-child::after {align-self: flex-start;width: 50%;}#sk-container-id-1 div.sk-parallel-item:only-child::after {width: 0;}#sk-container-id-1 div.sk-dashed-wrapped {border: 1px dashed gray;margin: 0 0.4em 0.5em 0.4em;box-sizing: border-box;padding-bottom: 0.4em;background-color: white;}#sk-container-id-1 div.sk-label label {font-family: monospace;font-weight: bold;display: inline-block;line-height: 1.2em;}#sk-container-id-1 div.sk-label-container {text-align: center;}#sk-container-id-1 div.sk-container {/* jupyter's `normalize.less` sets `[hidden] { display: none; }` but bootstrap.min.css set `[hidden] { display: none !important; }` so we also need the `!important` here to be able to override the default hidden behavior on the sphinx rendered scikit-learn.org. See: https://github.com/scikit-learn/scikit-learn/issues/21755 */display: inline-block !important;position: relative;}#sk-container-id-1 div.sk-text-repr-fallback {display: none;}</style><div id=\"sk-container-id-1\" class=\"sk-top-container\"><div class=\"sk-text-repr-fallback\"><pre>LinearRegression()</pre><b>In a Jupyter environment, please rerun this cell to show the HTML representation or trust the notebook. <br />On GitHub, the HTML representation is unable to render, please try loading this page with nbviewer.org.</b></div><div class=\"sk-container\" hidden><div class=\"sk-item\"><div class=\"sk-estimator sk-toggleable\"><input class=\"sk-toggleable__control sk-hidden--visually\" id=\"sk-estimator-id-1\" type=\"checkbox\" checked><label for=\"sk-estimator-id-1\" class=\"sk-toggleable__label sk-toggleable__label-arrow\">LinearRegression</label><div class=\"sk-toggleable__content\"><pre>LinearRegression()</pre></div></div></div></div></div>"
            ]
          },
          "metadata": {},
          "execution_count": 12
        }
      ]
    },
    {
      "cell_type": "code",
      "source": [
        "# finding the coefficient determination\n",
        "r_sq =model.score(x,y)\n",
        "print(f\"coefficient of determination:{round(r_sq,4)}\")"
      ],
      "metadata": {
        "colab": {
          "base_uri": "https://localhost:8080/"
        },
        "id": "2pw_AVufqrU2",
        "outputId": "c019296b-dfb6-4e59-cd78-1e09271ba845"
      },
      "execution_count": null,
      "outputs": [
        {
          "output_type": "stream",
          "name": "stdout",
          "text": [
            "coefficient of determination:0.9447\n"
          ]
        }
      ]
    },
    {
      "cell_type": "code",
      "source": [
        "#Slope and Intercept\n",
        "print(f\"Intercept:{round(model.intercept_,4)}\")\n",
        "print(f\"Slope:{round(model.coef_[0],4)}\")"
      ],
      "metadata": {
        "colab": {
          "base_uri": "https://localhost:8080/"
        },
        "id": "Wge3nce0rGlK",
        "outputId": "f2769e4b-219f-4f4c-9b9b-86f97bb387cd"
      },
      "execution_count": null,
      "outputs": [
        {
          "output_type": "stream",
          "name": "stdout",
          "text": [
            "Intercept:39.45\n",
            "Slope:70.6667\n"
          ]
        }
      ]
    },
    {
      "cell_type": "code",
      "source": [
        "#predict the model\n",
        "y_hat = model.predict(x) \n",
        "print(f\"predicted value :{y_hat}\")"
      ],
      "metadata": {
        "colab": {
          "base_uri": "https://localhost:8080/"
        },
        "id": "bQh5Rm96ruR5",
        "outputId": "41924cc7-91bb-4259-a6aa-678009007379"
      },
      "execution_count": null,
      "outputs": [
        {
          "output_type": "stream",
          "name": "stdout",
          "text": [
            "predicted value :[110.11666667 110.11666667 110.11666667 180.78333333 180.78333333\n",
            " 180.78333333 180.78333333 251.45       251.45       251.45\n",
            " 251.45       251.45       251.45       251.45       322.11666667\n",
            " 322.11666667 322.11666667 392.78333333 392.78333333 463.45      ]\n"
          ]
        }
      ]
    },
    {
      "cell_type": "code",
      "source": [
        "#predict the model using intercept and slope (y=ax + b)\n",
        "y_pred = model.intercept_ + model.coef_ * x\n",
        "print(f\"predicted Value:\\n{y_pred}\")"
      ],
      "metadata": {
        "colab": {
          "base_uri": "https://localhost:8080/"
        },
        "id": "QZ6Ssa9JsvF9",
        "outputId": "a957d767-f316-41ff-8c0a-fba062e20995"
      },
      "execution_count": null,
      "outputs": [
        {
          "output_type": "stream",
          "name": "stdout",
          "text": [
            "predicted Value:\n",
            "[[110.11666667]\n",
            " [110.11666667]\n",
            " [110.11666667]\n",
            " [180.78333333]\n",
            " [180.78333333]\n",
            " [180.78333333]\n",
            " [180.78333333]\n",
            " [251.45      ]\n",
            " [251.45      ]\n",
            " [251.45      ]\n",
            " [251.45      ]\n",
            " [251.45      ]\n",
            " [251.45      ]\n",
            " [251.45      ]\n",
            " [322.11666667]\n",
            " [322.11666667]\n",
            " [322.11666667]\n",
            " [392.78333333]\n",
            " [392.78333333]\n",
            " [463.45      ]]\n"
          ]
        }
      ]
    },
    {
      "cell_type": "code",
      "source": [
        "#Predict the house price for a house with 7 rooms\n",
        "value =7\n",
        "y_pred = model.intercept_ + model.coef_ * value\n",
        "print(\"The predicted price with 7 rooms is : \", y_pred)"
      ],
      "metadata": {
        "colab": {
          "base_uri": "https://localhost:8080/"
        },
        "id": "3vHSvGfQtLxp",
        "outputId": "53d9d392-a651-43b1-ffc4-755ce6e4717a"
      },
      "execution_count": null,
      "outputs": [
        {
          "output_type": "stream",
          "name": "stdout",
          "text": [
            "The predicted price with 7 rooms is :  [534.11666667]\n"
          ]
        }
      ]
    },
    {
      "cell_type": "code",
      "source": [
        "#Estimate the upper bound and the lower bounds of the prediction interval of a house with 7 rooms\n",
        "alpha =0.1\n",
        "N=20\n",
        "df = N-2\n",
        "re_error= np.sqrt(np.square(y-y_hat).sum()/(N-2))\n",
        "s_error = re_error*((1+(1/N)+((np.square(value-x.mean()))/(np.square(x-x.mean()).sum()))))\n",
        "#print(s_error)\n",
        "t_value = t.ppf(1-alpha/2,df=df)\n",
        "interval =t_value * s_error\n",
        "y_pred = model.predict(np.array([[value]]))[0].round(4)\n",
        "LP = round(y_pred - interval,4)\n",
        "UP = round(y_pred + interval,4)\n",
        "\n",
        "#print(\"Lower bound of prediction interval for a house with 7 rooms:\", LP)\n",
        "#print(\"Upper bound of prediction interval for a house with 7 rooms:\", UP)\n",
        "print(f\"\\tThe predicted price of 7 bedrooms  {y_pred} is within the interval  ({LP:.3f}, {UP:.3f})\")\n",
        "\n",
        "\n",
        "\n",
        "\n",
        "\n",
        "\n",
        "\n"
      ],
      "metadata": {
        "colab": {
          "base_uri": "https://localhost:8080/"
        },
        "id": "yfjuMhMCt9DW",
        "outputId": "fa48a16e-3d1a-4721-a877-bcecad01b6f9"
      },
      "execution_count": null,
      "outputs": [
        {
          "output_type": "stream",
          "name": "stdout",
          "text": [
            "\tThe predicted price of 7 bedrooms  534.1167 is within the interval  (471.435, 596.799)\n"
          ]
        }
      ]
    },
    {
      "cell_type": "code",
      "source": [
        "# Using as sample of houses that have only 3 bedrooms \n",
        "bedrooms_3 = [price for i, price in enumerate(y) if x[i] == 3]\n",
        "bedrooms_3\n",
        "\n"
      ],
      "metadata": {
        "colab": {
          "base_uri": "https://localhost:8080/"
        },
        "id": "Ir9rJ9ZGVSzF",
        "outputId": "2ab922e2-348e-4fde-e359-90a8afe1ead7"
      },
      "execution_count": null,
      "outputs": [
        {
          "output_type": "execute_result",
          "data": {
            "text/plain": [
              "[205, 244, 213, 236, 280, 275, 273]"
            ]
          },
          "metadata": {},
          "execution_count": 39
        }
      ]
    },
    {
      "cell_type": "code",
      "source": [
        "samp_mean = np.mean(bedrooms_3)\n",
        "samp_std = np.std(bedrooms_3)\n",
        "print(\"Mean:\",samp_mean)\n",
        "print(\"Standard Deviation:\",samp_std)"
      ],
      "metadata": {
        "colab": {
          "base_uri": "https://localhost:8080/"
        },
        "id": "Al1iCCMFbyZe",
        "outputId": "b2b3879c-d45b-4a19-c392-68aebbd33cc2"
      },
      "execution_count": null,
      "outputs": [
        {
          "output_type": "stream",
          "name": "stdout",
          "text": [
            "Mean: 246.57142857142858\n",
            "Standard Deviation: 28.278498358076853\n"
          ]
        }
      ]
    },
    {
      "cell_type": "markdown",
      "source": [
        "**5.\tTry to find the lower price that can be payed for a house with 3 rooms using Tolerance interval**"
      ],
      "metadata": {
        "id": "xZxINP-DrvvT"
      }
    },
    {
      "cell_type": "code",
      "source": [
        "alpha =0.05\n",
        "n = len(bedrooms_3)\n",
        "df = n-1\n",
        "# Tolerance interval value \n",
        "k2 = 2.447 \n",
        "\n",
        "# Calculating the upper bound and lower bound\n",
        "LB = samp_mean - k2 *(samp_std/np.sqrt(n))\n",
        "UB = samp_mean + k2 *(samp_std/np.sqrt(n))\n",
        "\n",
        "print(f\"The lower price that can be paid for a house with 3 bedrooms is {LB:.2f}, which lies within the tolerance interval [{LB:.2f}, {UB:.2f}].\")\n"
      ],
      "metadata": {
        "colab": {
          "base_uri": "https://localhost:8080/"
        },
        "id": "Fat9Jk1bop0-",
        "outputId": "0d4a5527-2032-460f-eaa2-bd13d1e624e2"
      },
      "execution_count": null,
      "outputs": [
        {
          "output_type": "stream",
          "name": "stdout",
          "text": [
            "The lower price that can be paid for a house with 3 bedrooms is 220.42, which lies within the tolerance interval [220.42, 272.73].\n"
          ]
        }
      ]
    },
    {
      "cell_type": "markdown",
      "source": [
        "**6.\tTry  to find the highest price that can be payed for a house with 3 rooms using Tolerance interval**"
      ],
      "metadata": {
        "id": "zZ6HTVvcr42f"
      }
    },
    {
      "cell_type": "code",
      "source": [
        "print(f\"The highest price that can be paid for a house with 3 bedrooms is {UB:.2f}, which lies within the tolerance interval [{LB:.2f}, {UB:.2f}].\")"
      ],
      "metadata": {
        "colab": {
          "base_uri": "https://localhost:8080/"
        },
        "id": "K_Z6jbtUjSVm",
        "outputId": "32f97e0b-4d06-4138-ee36-e10f68375560"
      },
      "execution_count": 45,
      "outputs": [
        {
          "output_type": "stream",
          "name": "stdout",
          "text": [
            "The highest price that can be paid for a house with 3 bedrooms is 272.73, which lies within the tolerance interval [220.42, 272.73].\n"
          ]
        }
      ]
    }
  ]
}