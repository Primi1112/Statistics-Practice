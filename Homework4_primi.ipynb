{
  "nbformat": 4,
  "nbformat_minor": 0,
  "metadata": {
    "colab": {
      "provenance": []
    },
    "kernelspec": {
      "name": "python3",
      "display_name": "Python 3"
    },
    "language_info": {
      "name": "python"
    }
  },
  "cells": [
    {
      "cell_type": "markdown",
      "source": [
        "##1.\tSuppose we want to test whether the mean weight of apples in a grocery store is 150 grams. We randomly sample 20 apples from the store and measure their weights, getting the following data:"
      ],
      "metadata": {
        "id": "izxRUvykGfo1"
      }
    },
    {
      "cell_type": "code",
      "execution_count": 9,
      "metadata": {
        "colab": {
          "base_uri": "https://localhost:8080/"
        },
        "id": "XwY0W-MhFKTp",
        "outputId": "677b8255-d065-40fc-9002-1462e1b6cde1"
      },
      "outputs": [
        {
          "output_type": "execute_result",
          "data": {
            "text/plain": [
              "[145,\n",
              " 155,\n",
              " 160,\n",
              " 146,\n",
              " 142,\n",
              " 152,\n",
              " 150,\n",
              " 147,\n",
              " 148,\n",
              " 149,\n",
              " 148,\n",
              " 152,\n",
              " 153,\n",
              " 155,\n",
              " 154,\n",
              " 148,\n",
              " 151,\n",
              " 147,\n",
              " 153,\n",
              " 146]"
            ]
          },
          "metadata": {},
          "execution_count": 9
        }
      ],
      "source": [
        "Apple_weights = [145, 155, 160, 146, 142, 152, 150, 147, 148, 149, 148, 152, 153, 155, 154, 148, 151, 147, 153, 146]\n",
        "Apple_weights"
      ]
    },
    {
      "cell_type": "markdown",
      "source": [
        "##\tWhat test should we use and why?"
      ],
      "metadata": {
        "id": "aRUj7TnrG1mS"
      }
    },
    {
      "cell_type": "markdown",
      "source": [
        "-One-sample t-test to determine the mean weight of the apples\n",
        "- This test is used because here we are given sample size and also the population standard deviation is unknown."
      ],
      "metadata": {
        "id": "XvlZP-JfHWdo"
      }
    },
    {
      "cell_type": "markdown",
      "source": [
        "##\tState the null and alternative hypotheses.\n"
      ],
      "metadata": {
        "id": "stLPjLCkKnWB"
      }
    },
    {
      "cell_type": "markdown",
      "source": [
        "-H0:population mean weight of the apples is equal to 150 gms\n",
        "\n",
        "-Ha:Population mean weigth of the apples is not equal to 150 gms "
      ],
      "metadata": {
        "id": "UdllO1DHKrmQ"
      }
    },
    {
      "cell_type": "markdown",
      "source": [
        "##\tChoose a significance level (α) (the probability of rejecting the null hypothesis when it is actually true)."
      ],
      "metadata": {
        "id": "H1EjqsW8L4A5"
      }
    },
    {
      "cell_type": "markdown",
      "source": [
        "alpha =0.05"
      ],
      "metadata": {
        "id": "uHGHK69sL-J6"
      }
    },
    {
      "cell_type": "markdown",
      "source": [
        "##Determine the degrees of freedom (df) of the sample. Df = sample size -1 "
      ],
      "metadata": {
        "id": "P--RaIRLM01D"
      }
    },
    {
      "cell_type": "markdown",
      "source": [
        "Here our sample size is 20, so degree of the freedom is calculated as \n",
        "df = 20-1\n",
        "df =19\n",
        " so the degree of the freedom for our sampl is 19 "
      ],
      "metadata": {
        "id": "69ReW03pM6TN"
      }
    },
    {
      "cell_type": "markdown",
      "source": [
        "##Determine the critical value of t based on the significance level and degrees of freedom. For a two-tailed test with α = 0.05 and df = 19, the critical values are -2.093 and 2.093."
      ],
      "metadata": {
        "id": "X6pviSz8PbXG"
      }
    },
    {
      "cell_type": "code",
      "source": [
        "import numpy as np\n",
        "from scipy import stats\n",
        "\n",
        "# Define the sample data\n",
        "Apple_weights = [145, 155, 160, 146, 142, 152, 150, 147, 148, 149, 148, 152, 153, 155, 154, 148, 151, 147, 153, 146]\n",
        "\n",
        "# Define the null hypothesis mean\n",
        "mu = 150\n",
        "\n",
        "# Calculate the sample mean and standard deviation\n",
        "sample_mean = np.mean(Apple_weights)\n",
        "sample_std = np.std(Apple_weights, ddof=1)\n",
        "\n",
        "# Calculate the t-statistic and p-value\n",
        "t_stat = (sample_mean - mu) / (sample_std / np.sqrt(len(Apple_weights)))\n",
        "#Calculate the  p-value\n",
        "p_value = 2 * stats.t.sf(np.abs(t_stat), df=len(Apple_weights)-1)\n",
        "\n",
        "# Print the results\n",
        "print(\"Sample Mean:\",sample_mean)\n",
        "print(\"Sample Std:\",sample_std)\n",
        "print(\"t-statistic = \", round(t_stat,3))\n",
        "print(\"p-value = \", round(p_value,5))\n",
        "\n",
        "# Compare the t-statistic to the critical values at alpha = 0.05 and df = 19\n",
        "alpha = 0.05\n",
        "t_crit_lower = -2.093\n",
        "t_crit_upper = 2.093\n",
        "\n",
        "if t_stat < t_crit_lower or t_stat > t_crit_upper:\n",
        "    print(\"Reject the null hypothesis\")\n",
        "else:\n",
        "    print(\"Fail to reject the null hypothesis\")"
      ],
      "metadata": {
        "colab": {
          "base_uri": "https://localhost:8080/"
        },
        "id": "cluItStfaDnW",
        "outputId": "42f4de79-19ee-4b7c-fedc-5386dcd0e53a"
      },
      "execution_count": 10,
      "outputs": [
        {
          "output_type": "stream",
          "name": "stdout",
          "text": [
            "Sample Mean: 150.05\n",
            "Sample Std: 4.2608993367474355\n",
            "t-statistic =  0.052\n",
            "p-value =  0.9587\n",
            "Fail to reject the null hypothesis\n"
          ]
        }
      ]
    },
    {
      "cell_type": "markdown",
      "source": [
        "So ,we can see that based on the values on the t-statistics and also the critical values of two tailed test with alpha value of 0.05 and df = 19 results to Fail to reject the null hypothesis which means that the mean of the weight of the apples = 150grams"
      ],
      "metadata": {
        "id": "WQ5sNY3uZ5rq"
      }
    },
    {
      "cell_type": "markdown",
      "source": [
        "##\tCompare and interpret the results of the test to the critical value "
      ],
      "metadata": {
        "id": "kJCwtCC2uCkw"
      }
    },
    {
      "cell_type": "markdown",
      "source": [
        "Based upon the results we could see that the t-statistic value we obtained is 0.052 ,it within the critical value of -2.093 and 2.093 ,hence we could say that we fail to reject the null hypothesis at 5% significan level.\n",
        "We can also see that the P-value is greater than 0.05,so we fail to reject the null the hypothsis."
      ],
      "metadata": {
        "id": "GhV2fVExwZUf"
      }
    },
    {
      "cell_type": "markdown",
      "source": [
        "##2.\tSuppose we want to test whether the mean height of all men in a population is 180 cm assuming that the population standard deviation = 2, We randomly sample 50 men from the population and measure their heights."
      ],
      "metadata": {
        "id": "utjPafpzAF87"
      }
    },
    {
      "cell_type": "code",
      "source": [
        "Men_height = [177, 180, 182, 179, 178, 181, 176, 183, 179, 180, 178, 181, 177, 178, 180, 179, 182, 180, 183, 181, 179, 177, 180, 181, 178, 180, 182, 179, 177, 182, 178, 181, 183, 179, 180, 181, 183, 178, 177, 181, 179, 182, 180, 181, 178, 180, 179, 181, 183, 179]\n",
        "Men_height"
      ],
      "metadata": {
        "colab": {
          "base_uri": "https://localhost:8080/"
        },
        "id": "Zr1WvPAqzH5J",
        "outputId": "ee63b003-fc6e-4fa7-a596-113e2f541fa1"
      },
      "execution_count": 11,
      "outputs": [
        {
          "output_type": "execute_result",
          "data": {
            "text/plain": [
              "[177,\n",
              " 180,\n",
              " 182,\n",
              " 179,\n",
              " 178,\n",
              " 181,\n",
              " 176,\n",
              " 183,\n",
              " 179,\n",
              " 180,\n",
              " 178,\n",
              " 181,\n",
              " 177,\n",
              " 178,\n",
              " 180,\n",
              " 179,\n",
              " 182,\n",
              " 180,\n",
              " 183,\n",
              " 181,\n",
              " 179,\n",
              " 177,\n",
              " 180,\n",
              " 181,\n",
              " 178,\n",
              " 180,\n",
              " 182,\n",
              " 179,\n",
              " 177,\n",
              " 182,\n",
              " 178,\n",
              " 181,\n",
              " 183,\n",
              " 179,\n",
              " 180,\n",
              " 181,\n",
              " 183,\n",
              " 178,\n",
              " 177,\n",
              " 181,\n",
              " 179,\n",
              " 182,\n",
              " 180,\n",
              " 181,\n",
              " 178,\n",
              " 180,\n",
              " 179,\n",
              " 181,\n",
              " 183,\n",
              " 179]"
            ]
          },
          "metadata": {},
          "execution_count": 11
        }
      ]
    },
    {
      "cell_type": "markdown",
      "source": [
        "## What test should we use and why?"
      ],
      "metadata": {
        "id": "iblXKgbnCEbq"
      }
    },
    {
      "cell_type": "markdown",
      "source": [
        "We will choose one sample Z test, because as we have the population standard mean = 2 and the sample size is large n= 50"
      ],
      "metadata": {
        "id": "ZUCZZWtLCOjV"
      }
    },
    {
      "cell_type": "markdown",
      "source": [
        "##State the null and alternative hypotheses."
      ],
      "metadata": {
        "id": "zaUteNynD94i"
      }
    },
    {
      "cell_type": "markdown",
      "source": [
        " - H0: mean height of all men is 180 cm\n",
        "\n",
        " - Ha:  mean height of all men is not 180cm (two-tailed)\n",
        "\n",
        " - Ha:   mean height of all men is either less than or greater than 180cm (one-tailed)"
      ],
      "metadata": {
        "id": "wl_vqdnvEi4N"
      }
    },
    {
      "cell_type": "markdown",
      "source": [
        "##\tChoose a significance level (α) (the probability of rejecting the null hypothesis when it is actually true)."
      ],
      "metadata": {
        "id": "dvTmFgV5E7Gn"
      }
    },
    {
      "cell_type": "markdown",
      "source": [
        "alpha =0.05"
      ],
      "metadata": {
        "id": "wPFGXVKCFC6W"
      }
    },
    {
      "cell_type": "markdown",
      "source": [
        "## Determine the degrees of freedom (df) of the sample. Df = sample size -1 "
      ],
      "metadata": {
        "id": "-b1yg1CvFwQD"
      }
    },
    {
      "cell_type": "markdown",
      "source": [
        "Here our sample size is 50, so degree of the freedom is calculated as df = 50-1 df =49 so the degree of the freedom for our sampl is 49"
      ],
      "metadata": {
        "id": "HU6A1wIIGCUs"
      }
    },
    {
      "cell_type": "markdown",
      "source": [
        "##Determine the critical value of t based on the significance level and degrees of freedom. For a two-tailed test with α = 0.05 and df = 19, the critical values are -2.093 and 2.093"
      ],
      "metadata": {
        "id": "IW1KbP1mxUNr"
      }
    },
    {
      "cell_type": "code",
      "source": [
        "from scipy.stats.distributions import alpha_gen\n",
        "from numpy.lib import math\n",
        "import numpy as np\n",
        "import math\n",
        "\n",
        "from numpy.random import randn\n",
        "from statsmodels.stats.weightstats import ztest as ztest\n",
        "\n",
        "\n",
        "Men_height = [177, 180, 182, 179, 178, 181, 176, 183, 179, 180, 178, 181, 177, 178, 180, 179, 182, 180, 183, 181, 179, 177, 180, 181, 178, 180, 182, 179, 177, 182, 178, 181, 183, 179, \n",
        "               180, 181, 183, 178, 177, 181, 179, 182, 180, 181, 178, 180, 179, 181, 183, 179]\n",
        "\n",
        "#sample_mean=np.array(Men_height).mean()\n",
        "#sample_std=2/math.sqrt(50)\n",
        "alpha =0.05\n",
        "pop_mean =180\n",
        "\n",
        "print(\"The sample mean is \",sample_mean)\n",
        "    \n",
        "ztest_Score, p_value= ztest(Men_height,value = pop_mean, alternative='larger')# passing our sample data,mean, Ha to check if the mean is larger\n",
        "\n",
        "print(\"z testscore\",round(ztest_Score,4),\"P Value \",round(p_value,4)) # coresponding Z score and P value\n",
        "print(\"alpha value \",alpha)\n",
        "# Compare if p_value  is greater thhan alpha accept null hypothesis else reject\n",
        "if(p_value <  alpha):\n",
        "  print(\"Reject Null Hypothesis\")\n",
        "else:\n",
        "  print(\"Fail to Reject NUll Hypothesis\")"
      ],
      "metadata": {
        "colab": {
          "base_uri": "https://localhost:8080/"
        },
        "id": "AxNxSf_c1His",
        "outputId": "d7bde4e4-5734-4584-d953-226cb4274c82"
      },
      "execution_count": 12,
      "outputs": [
        {
          "output_type": "stream",
          "name": "stdout",
          "text": [
            "The sample mean is  150.05\n",
            "z testscore -0.6061 P Value  0.7278\n",
            "alpha value  0.05\n",
            "Fail to Reject NUll Hypothesis\n"
          ]
        }
      ]
    },
    {
      "cell_type": "markdown",
      "source": [
        "##Compare and interpret the results of the test to the critical value"
      ],
      "metadata": {
        "id": "eTzmTRxHf6mo"
      }
    },
    {
      "cell_type": "markdown",
      "source": [
        "As we can see the p_value is greater than the 0.05,so we have significant evidence ,which means we Fail to reject the null hypothesis.So in other words we can say that mean of the height is  equal to 180"
      ],
      "metadata": {
        "id": "XKXw6pB0tOHy"
      }
    },
    {
      "cell_type": "markdown",
      "source": [
        "##3.\tSuppose we want to test whether the mean weight of a population of cats is different from 4 kg. We randomly sample 50 cats from the population and measure their weights, getting the following data:\n",
        "\n",
        "Cats_weights = [3.9, 4.2, 4.5, 4.1, 4.3, 3.8, 4.6, 4.2, 3.7, 4.3, 3.9, 4.0, 4.1, 4.5, 4.2, 3.8, 3.9, 4.3, 4.1, 4.0, 4.4, 4.2, 4.1, 4.6, 4.4, 4.2, 4.1, 4.3, 4.0, 4.4, 4.3, 3.8, 4.1, 4.5, 4.2, 4.3, 4.0, 4.1, 4.2, 3.9, 4.3, 3.7, 4.1, 4.5, 4.2, 4.0, 4.2, 4.4, 4.1, 4.5]\n",
        "\n"
      ],
      "metadata": {
        "id": "7-ek6dG5ucTt"
      }
    },
    {
      "cell_type": "code",
      "source": [
        "from scipy.stats.distributions import alpha_gen\n",
        "from numpy.lib import math\n",
        "import numpy as np\n",
        "import math\n",
        "\n",
        "from statsmodels.stats.weightstats import ztest \n",
        "\n",
        "Cats_weights = [3.9, 4.2, 4.5, 4.1, 4.3, 3.8, 4.6, 4.2, 3.7, 4.3, 3.9, 4.0, 4.1, 4.5, 4.2, 3.8, 3.9, 4.3, 4.1, 4.0, 4.4, 4.2, 4.1, 4.6, 4.4, 4.2, 4.1, 4.3, 4.0, 4.4, 4.3, 3.8, 4.1, 4.5, \n",
        "                4.2, 4.3, 4.0, 4.1, 4.2, 3.9, 4.3, 3.7, 4.1, 4.5, 4.2, 4.0, 4.2, 4.4, 4.1, 4.5]\n",
        "\n",
        "#population mean given\n",
        "mu=4\n",
        "\n",
        "#sample size 50\n",
        "\n",
        "#mean of the sample\n",
        "samp_cat_weight_mean=np.array(Cats_weights).mean()\n",
        "\n",
        "alpha =0.05\n",
        "pop_mean = 4\n",
        "\n",
        "print(\"The sample mean is \",round(samp_cat_weight_mean,1))\n",
        "\n",
        "alpha =0.05\n",
        "pop_mean =4\n",
        "\n",
        "ztest_Score, p_value= ztest(Cats_weights,value = pop_mean, alternative='two-sided')# compute the Z score and P value\n",
        "\n",
        "\n",
        "print(\"z score\",round(ztest_Score,4),\"P Value \",round(p_value,4))\n",
        "#comapre p value with the alpha value if its less than we reject the null hypothesis else accept the null hypothesis\n",
        "if(p_value <  alpha):\n",
        "  print(\"Reject Null Hypothesis\")\n",
        "else:\n",
        "  print(\"Fail to Reject NUll Hypothesis\")\n"
      ],
      "metadata": {
        "colab": {
          "base_uri": "https://localhost:8080/"
        },
        "id": "na60zQISf9l_",
        "outputId": "e10e230e-8491-426e-a6e9-9f8078079f0e"
      },
      "execution_count": 13,
      "outputs": [
        {
          "output_type": "stream",
          "name": "stdout",
          "text": [
            "The sample mean is  4.2\n",
            "z score 5.2336 P Value  0.0\n",
            "Reject Null Hypothesis\n"
          ]
        }
      ]
    },
    {
      "cell_type": "markdown",
      "source": [
        "- From the result we can say that the mean weigth of the cats is significantly different from 4kg.\n",
        "- So we reject the null hypothesis,thus we could suggest that the population mean weight of the cats is not equal to 4 kg.\n",
        "- P- value = 0.0 so we can say that there is significantly difference between the sample mean and hypothesised population mean."
      ],
      "metadata": {
        "id": "UfL4u2GEEyXQ"
      }
    },
    {
      "cell_type": "markdown",
      "source": [
        "## State the null and alternative hypotheses."
      ],
      "metadata": {
        "id": "1G01QLPsGuE9"
      }
    },
    {
      "cell_type": "markdown",
      "source": [
        "- H0: The mean weight of the population of cats is equal to 4kg\n",
        "- Ha : The mean weight of the population of cats is not equal to 4 kg"
      ],
      "metadata": {
        "id": "Yg09lsfuG1k-"
      }
    },
    {
      "cell_type": "markdown",
      "source": [
        "## Choose a significance level (α) (the probability of rejecting the null hypothesis when it is actually true)."
      ],
      "metadata": {
        "id": "fh3MQ8o0IFt3"
      }
    },
    {
      "cell_type": "markdown",
      "source": [
        "-Significance level ,alpha = 0.05"
      ],
      "metadata": {
        "id": "6zH-b4XRIK6P"
      }
    },
    {
      "cell_type": "markdown",
      "source": [
        "## ○\tCalculate the z-score using the formula:"
      ],
      "metadata": {
        "id": "KSl8Q0WEJMjE"
      }
    },
    {
      "cell_type": "code",
      "source": [
        "import math\n",
        "\n",
        "Cats_weights = [3.9, 4.2, 4.5, 4.1, 4.3, 3.8, 4.6, 4.2, 3.7, 4.3, 3.9, 4.0, 4.1, 4.5, 4.2, 3.8, 3.9, 4.3, 4.1, 4.0, 4.4, 4.2, 4.1, 4.6, 4.4, 4.2, 4.1, 4.3, 4.0, 4.4, 4.3, 3.8, 4.1, 4.5, 4.2, 4.3, 4.0, 4.1, 4.2, 3.9, 4.3, 3.7, 4.1, 4.5, 4.2, 4.0, 4.2, 4.4, 4.1, 4.5]\n",
        "\n",
        "sample_mean = sum(Cats_weights)/len(Cats_weights) # sample mean\n",
        "pop_mean = 4\n",
        "pop_std = sample_mean / math.sqrt(len(Cats_weights)) # population standard deviation\n",
        "\n",
        "z_score = (sample_mean - pop_mean) / pop_std # calculating z score with the formula\n",
        "\n",
        "print(\"Sample Mean:\",round(sample_mean,3))\n",
        "print(\"Population Standard Deviation:\",round(pop_std,4))\n",
        "print(\"The z-score is:\", round(z_score,4))\n",
        "if(z_score > 1.96 or z_score< -1.96):\n",
        "    print(\"Reject the null hypothesis\")\n",
        "else:\n",
        "    print(\"Fail to Reject NUll Hypothesis\")\n",
        "\n"
      ],
      "metadata": {
        "colab": {
          "base_uri": "https://localhost:8080/"
        },
        "id": "AIz3-6AdWlm6",
        "outputId": "aa8e81fe-d11e-41e6-b62d-256978ce95b8"
      },
      "execution_count": 14,
      "outputs": [
        {
          "output_type": "stream",
          "name": "stdout",
          "text": [
            "Sample Mean: 4.17\n",
            "Population Standard Deviation: 0.5897\n",
            "The z-score is: 0.2883\n",
            "Fail to Reject NUll Hypothesis\n"
          ]
        }
      ]
    },
    {
      "cell_type": "markdown",
      "source": [
        "## ○\tAssuming that the standard deviation is equal to the sample mean"
      ],
      "metadata": {
        "id": "QFvvblyTW9is"
      }
    },
    {
      "cell_type": "code",
      "source": [
        "import math\n",
        "\n",
        "Cats_weights = [3.9, 4.2, 4.5, 4.1, 4.3, 3.8, 4.6, 4.2, 3.7, 4.3, 3.9, 4.0, 4.1, 4.5, 4.2, 3.8, 3.9, 4.3, 4.1, 4.0, 4.4, 4.2, 4.1, 4.6, 4.4, 4.2, 4.1, 4.3, 4.0, 4.4, 4.3, 3.8, 4.1, 4.5, 4.2, 4.3, 4.0, 4.1, 4.2, 3.9, 4.3, 3.7, 4.1, 4.5, 4.2, 4.0, 4.2, 4.4, 4.1, 4.5]\n",
        "\n",
        "sample_mean = sum(Cats_weights)/len(Cats_weights) # Sample mean\n",
        "pop_mean = 4 # population mean\n",
        "pop_std = sample_mean # Assuming that the standard deviation is equal to the sample mean\n",
        "# Sample size\n",
        "n = len(Cats_weights)\n",
        "# Calculate the z-score\n",
        "z_score = (sample_mean - pop_mean)/(pop_std/math.sqrt(n))\n",
        "\n",
        "print(\"Sample Mean:\",round(sample_mean,3))\n",
        "print(\"Population Standard Deviation:\",round(pop_std,4))\n",
        "print(\"The z-score is:\", round(z_score,4))\n",
        "if(z_score > 1.96 or z_score< -1.96):\n",
        "    print(\"Reject the null hypothesis\")\n",
        "else:\n",
        "    print(\"Fail to Reject NUll Hypothesis\")\n"
      ],
      "metadata": {
        "colab": {
          "base_uri": "https://localhost:8080/"
        },
        "id": "7PfKbHDuFdck",
        "outputId": "3cc84e7f-d6af-47e1-827e-321bafe0ab57"
      },
      "execution_count": 16,
      "outputs": [
        {
          "output_type": "stream",
          "name": "stdout",
          "text": [
            "Sample Mean: 4.17\n",
            "Population Standard Deviation: 4.17\n",
            "The z-score is: 0.2883\n",
            "Fail to Reject NUll Hypothesis\n"
          ]
        }
      ]
    },
    {
      "cell_type": "markdown",
      "source": [
        "## ○\tLook up the critical z-value at the chosen significance level (α) using a z-table."
      ],
      "metadata": {
        "id": "omzveAtOJ_8A"
      }
    },
    {
      "cell_type": "markdown",
      "source": [
        "- We have the alpha value = 0.05, so from the z-table  we find that critical z values are +/- 1.96\n",
        "- if ou z score tends to lies outside this range , it result to reject our null hypothesis else we accept our null hypothesis."
      ],
      "metadata": {
        "id": "_T7xevMpKNJc"
      }
    },
    {
      "cell_type": "markdown",
      "source": [
        "## ○\tCompare the calculated z-score to the critical z-values. If the calculated z-score falls outside the range between the critical z-values, we reject the null hypothesis in favor of the alternative hypothesis."
      ],
      "metadata": {
        "id": "F06swzPWLRtZ"
      }
    },
    {
      "cell_type": "markdown",
      "source": [
        "The result of our z testscore 0.2883,  the critical value we observed from the table is +/- 1.96, so the value lies outside the range .Hence we  Fail to reject the null hypothesis.\n",
        "Therefore, we can say that there is no significantly difference in the mean weight of the cat from 4kg."
      ],
      "metadata": {
        "id": "OTDbkfJJLnko"
      }
    }
  ]
}